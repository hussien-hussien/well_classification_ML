{
 "cells": [
  {
   "cell_type": "markdown",
   "metadata": {},
   "source": [
    "# Data Cleaning\n",
    "\n",
    "+ Feature Selection and Engineering\n",
    "+ Fill nan values\n",
    "+ Figure out if the dates are important and if that makes it an unbalanced data set and what to do about it\n",
    "+ Maybe do initial modeling to benchmark results\n",
    "\n",
    "Feature Idea:\n",
    "+ Months since install"
   ]
  },
  {
   "cell_type": "markdown",
   "metadata": {},
   "source": [
    "## Overview of dataset"
   ]
  },
  {
   "cell_type": "code",
   "execution_count": 1,
   "metadata": {},
   "outputs": [],
   "source": [
    "import pandas as pd\n",
    "import numpy as np\n",
    "import matplotlib.pyplot as plt\n",
    "%matplotlib inline \n",
    "import seaborn as sns"
   ]
  },
  {
   "cell_type": "code",
   "execution_count": 2,
   "metadata": {
    "scrolled": true
   },
   "outputs": [
    {
     "data": {
      "text/html": [
       "<div>\n",
       "<style scoped>\n",
       "    .dataframe tbody tr th:only-of-type {\n",
       "        vertical-align: middle;\n",
       "    }\n",
       "\n",
       "    .dataframe tbody tr th {\n",
       "        vertical-align: top;\n",
       "    }\n",
       "\n",
       "    .dataframe thead th {\n",
       "        text-align: right;\n",
       "    }\n",
       "</style>\n",
       "<table border=\"1\" class=\"dataframe\">\n",
       "  <thead>\n",
       "    <tr style=\"text-align: right;\">\n",
       "      <th></th>\n",
       "      <th>id</th>\n",
       "      <th>status_group</th>\n",
       "      <th>id</th>\n",
       "      <th>amount_tsh</th>\n",
       "      <th>date_recorded</th>\n",
       "      <th>funder</th>\n",
       "      <th>gps_height</th>\n",
       "      <th>installer</th>\n",
       "      <th>longitude</th>\n",
       "      <th>latitude</th>\n",
       "      <th>...</th>\n",
       "      <th>payment_type</th>\n",
       "      <th>water_quality</th>\n",
       "      <th>quality_group</th>\n",
       "      <th>quantity</th>\n",
       "      <th>quantity_group</th>\n",
       "      <th>source</th>\n",
       "      <th>source_type</th>\n",
       "      <th>source_class</th>\n",
       "      <th>waterpoint_type</th>\n",
       "      <th>waterpoint_type_group</th>\n",
       "    </tr>\n",
       "  </thead>\n",
       "  <tbody>\n",
       "    <tr>\n",
       "      <th>0</th>\n",
       "      <td>69572</td>\n",
       "      <td>functional</td>\n",
       "      <td>69572</td>\n",
       "      <td>6000.0</td>\n",
       "      <td>2011-03-14</td>\n",
       "      <td>Roman</td>\n",
       "      <td>1390</td>\n",
       "      <td>Roman</td>\n",
       "      <td>34.938093</td>\n",
       "      <td>-9.856322</td>\n",
       "      <td>...</td>\n",
       "      <td>annually</td>\n",
       "      <td>soft</td>\n",
       "      <td>good</td>\n",
       "      <td>enough</td>\n",
       "      <td>enough</td>\n",
       "      <td>spring</td>\n",
       "      <td>spring</td>\n",
       "      <td>groundwater</td>\n",
       "      <td>communal standpipe</td>\n",
       "      <td>communal standpipe</td>\n",
       "    </tr>\n",
       "    <tr>\n",
       "      <th>1</th>\n",
       "      <td>8776</td>\n",
       "      <td>functional</td>\n",
       "      <td>8776</td>\n",
       "      <td>0.0</td>\n",
       "      <td>2013-03-06</td>\n",
       "      <td>Grumeti</td>\n",
       "      <td>1399</td>\n",
       "      <td>GRUMETI</td>\n",
       "      <td>34.698766</td>\n",
       "      <td>-2.147466</td>\n",
       "      <td>...</td>\n",
       "      <td>never pay</td>\n",
       "      <td>soft</td>\n",
       "      <td>good</td>\n",
       "      <td>insufficient</td>\n",
       "      <td>insufficient</td>\n",
       "      <td>rainwater harvesting</td>\n",
       "      <td>rainwater harvesting</td>\n",
       "      <td>surface</td>\n",
       "      <td>communal standpipe</td>\n",
       "      <td>communal standpipe</td>\n",
       "    </tr>\n",
       "    <tr>\n",
       "      <th>2</th>\n",
       "      <td>34310</td>\n",
       "      <td>functional</td>\n",
       "      <td>34310</td>\n",
       "      <td>25.0</td>\n",
       "      <td>2013-02-25</td>\n",
       "      <td>Lottery Club</td>\n",
       "      <td>686</td>\n",
       "      <td>World vision</td>\n",
       "      <td>37.460664</td>\n",
       "      <td>-3.821329</td>\n",
       "      <td>...</td>\n",
       "      <td>per bucket</td>\n",
       "      <td>soft</td>\n",
       "      <td>good</td>\n",
       "      <td>enough</td>\n",
       "      <td>enough</td>\n",
       "      <td>dam</td>\n",
       "      <td>dam</td>\n",
       "      <td>surface</td>\n",
       "      <td>communal standpipe multiple</td>\n",
       "      <td>communal standpipe</td>\n",
       "    </tr>\n",
       "    <tr>\n",
       "      <th>3</th>\n",
       "      <td>67743</td>\n",
       "      <td>non functional</td>\n",
       "      <td>67743</td>\n",
       "      <td>0.0</td>\n",
       "      <td>2013-01-28</td>\n",
       "      <td>Unicef</td>\n",
       "      <td>263</td>\n",
       "      <td>UNICEF</td>\n",
       "      <td>38.486161</td>\n",
       "      <td>-11.155298</td>\n",
       "      <td>...</td>\n",
       "      <td>never pay</td>\n",
       "      <td>soft</td>\n",
       "      <td>good</td>\n",
       "      <td>dry</td>\n",
       "      <td>dry</td>\n",
       "      <td>machine dbh</td>\n",
       "      <td>borehole</td>\n",
       "      <td>groundwater</td>\n",
       "      <td>communal standpipe multiple</td>\n",
       "      <td>communal standpipe</td>\n",
       "    </tr>\n",
       "    <tr>\n",
       "      <th>4</th>\n",
       "      <td>19728</td>\n",
       "      <td>functional</td>\n",
       "      <td>19728</td>\n",
       "      <td>0.0</td>\n",
       "      <td>2011-07-13</td>\n",
       "      <td>Action In A</td>\n",
       "      <td>0</td>\n",
       "      <td>Artisan</td>\n",
       "      <td>31.130847</td>\n",
       "      <td>-1.825359</td>\n",
       "      <td>...</td>\n",
       "      <td>never pay</td>\n",
       "      <td>soft</td>\n",
       "      <td>good</td>\n",
       "      <td>seasonal</td>\n",
       "      <td>seasonal</td>\n",
       "      <td>rainwater harvesting</td>\n",
       "      <td>rainwater harvesting</td>\n",
       "      <td>surface</td>\n",
       "      <td>communal standpipe</td>\n",
       "      <td>communal standpipe</td>\n",
       "    </tr>\n",
       "  </tbody>\n",
       "</table>\n",
       "<p>5 rows × 42 columns</p>\n",
       "</div>"
      ],
      "text/plain": [
       "      id    status_group     id  amount_tsh date_recorded        funder  \\\n",
       "0  69572      functional  69572      6000.0    2011-03-14         Roman   \n",
       "1   8776      functional   8776         0.0    2013-03-06       Grumeti   \n",
       "2  34310      functional  34310        25.0    2013-02-25  Lottery Club   \n",
       "3  67743  non functional  67743         0.0    2013-01-28        Unicef   \n",
       "4  19728      functional  19728         0.0    2011-07-13   Action In A   \n",
       "\n",
       "   gps_height     installer  longitude   latitude          ...            \\\n",
       "0        1390         Roman  34.938093  -9.856322          ...             \n",
       "1        1399       GRUMETI  34.698766  -2.147466          ...             \n",
       "2         686  World vision  37.460664  -3.821329          ...             \n",
       "3         263        UNICEF  38.486161 -11.155298          ...             \n",
       "4           0       Artisan  31.130847  -1.825359          ...             \n",
       "\n",
       "  payment_type  water_quality quality_group      quantity quantity_group  \\\n",
       "0     annually           soft          good        enough         enough   \n",
       "1    never pay           soft          good  insufficient   insufficient   \n",
       "2   per bucket           soft          good        enough         enough   \n",
       "3    never pay           soft          good           dry            dry   \n",
       "4    never pay           soft          good      seasonal       seasonal   \n",
       "\n",
       "                 source           source_type source_class  \\\n",
       "0                spring                spring  groundwater   \n",
       "1  rainwater harvesting  rainwater harvesting      surface   \n",
       "2                   dam                   dam      surface   \n",
       "3           machine dbh              borehole  groundwater   \n",
       "4  rainwater harvesting  rainwater harvesting      surface   \n",
       "\n",
       "               waterpoint_type  waterpoint_type_group  \n",
       "0           communal standpipe     communal standpipe  \n",
       "1           communal standpipe     communal standpipe  \n",
       "2  communal standpipe multiple     communal standpipe  \n",
       "3  communal standpipe multiple     communal standpipe  \n",
       "4           communal standpipe     communal standpipe  \n",
       "\n",
       "[5 rows x 42 columns]"
      ]
     },
     "execution_count": 2,
     "metadata": {},
     "output_type": "execute_result"
    }
   ],
   "source": [
    "training_labels = pd.read_csv('pump_it_up/training_labels.csv')\n",
    "training_values = pd.read_csv('pump_it_up/training_values.csv')\n",
    "test_values = pd.read_csv('pump_it_up/test_values.csv')\n",
    "\n",
    "well_data = pd.concat([training_labels,training_values],axis=1)\n",
    "\n",
    "well_data.head()"
   ]
  },
  {
   "cell_type": "markdown",
   "metadata": {},
   "source": [
    "How many features are there? & How many are numerical vs. categorical?"
   ]
  },
  {
   "cell_type": "code",
   "execution_count": 3,
   "metadata": {},
   "outputs": [
    {
     "data": {
      "text/plain": [
       "(59400, 42)"
      ]
     },
     "execution_count": 3,
     "metadata": {},
     "output_type": "execute_result"
    }
   ],
   "source": [
    "well_data.shape"
   ]
  },
  {
   "cell_type": "code",
   "execution_count": 4,
   "metadata": {},
   "outputs": [
    {
     "name": "stdout",
     "output_type": "stream",
     "text": [
      "<class 'pandas.core.frame.DataFrame'>\n",
      "RangeIndex: 59400 entries, 0 to 59399\n",
      "Data columns (total 42 columns):\n",
      "id                       59400 non-null int64\n",
      "status_group             59400 non-null object\n",
      "id                       59400 non-null int64\n",
      "amount_tsh               59400 non-null float64\n",
      "date_recorded            59400 non-null object\n",
      "funder                   55765 non-null object\n",
      "gps_height               59400 non-null int64\n",
      "installer                55745 non-null object\n",
      "longitude                59400 non-null float64\n",
      "latitude                 59400 non-null float64\n",
      "wpt_name                 59400 non-null object\n",
      "num_private              59400 non-null int64\n",
      "basin                    59400 non-null object\n",
      "subvillage               59029 non-null object\n",
      "region                   59400 non-null object\n",
      "region_code              59400 non-null int64\n",
      "district_code            59400 non-null int64\n",
      "lga                      59400 non-null object\n",
      "ward                     59400 non-null object\n",
      "population               59400 non-null int64\n",
      "public_meeting           56066 non-null object\n",
      "recorded_by              59400 non-null object\n",
      "scheme_management        55523 non-null object\n",
      "scheme_name              31234 non-null object\n",
      "permit                   56344 non-null object\n",
      "construction_year        59400 non-null int64\n",
      "extraction_type          59400 non-null object\n",
      "extraction_type_group    59400 non-null object\n",
      "extraction_type_class    59400 non-null object\n",
      "management               59400 non-null object\n",
      "management_group         59400 non-null object\n",
      "payment                  59400 non-null object\n",
      "payment_type             59400 non-null object\n",
      "water_quality            59400 non-null object\n",
      "quality_group            59400 non-null object\n",
      "quantity                 59400 non-null object\n",
      "quantity_group           59400 non-null object\n",
      "source                   59400 non-null object\n",
      "source_type              59400 non-null object\n",
      "source_class             59400 non-null object\n",
      "waterpoint_type          59400 non-null object\n",
      "waterpoint_type_group    59400 non-null object\n",
      "dtypes: float64(3), int64(8), object(31)\n",
      "memory usage: 19.0+ MB\n"
     ]
    }
   ],
   "source": [
    "well_data.info()"
   ]
  },
  {
   "cell_type": "markdown",
   "metadata": {},
   "source": [
    "It looks like there are 42 columns. 11 of which are numerical and 31 or which are categorical."
   ]
  },
  {
   "cell_type": "markdown",
   "metadata": {},
   "source": [
    "## Reduce categories\n",
    "\n",
    "#### Determine which variables are similar to one another and remove all of them but one\n",
    "Since most of these are more general & specific versions of one another, we'll determine which columns to keep by whichever is more specific. This is to avoid multi-collinearity. This can be revisited after we've trained the model the first time.\n",
    "\n",
    "Let's look at individual columns we think maybe redundant..."
   ]
  },
  {
   "cell_type": "code",
   "execution_count": 5,
   "metadata": {},
   "outputs": [
    {
     "data": {
      "text/plain": [
       "communal standpipe             28522\n",
       "hand pump                      17488\n",
       "other                           6380\n",
       "communal standpipe multiple     6103\n",
       "improved spring                  784\n",
       "cattle trough                    116\n",
       "dam                                7\n",
       "Name: waterpoint_type, dtype: int64"
      ]
     },
     "execution_count": 5,
     "metadata": {},
     "output_type": "execute_result"
    }
   ],
   "source": [
    "# Waterpoint_type & waterpoint_type_group\n",
    "#waterpoint = well_data[['waterpoint_type','waterpoint_type_group']]\n",
    "\n",
    "#waterpoint.apply(lambda x : pd.factorize(x)[0]).corr()\n",
    "\n",
    "well_data['waterpoint_type'].value_counts()"
   ]
  },
  {
   "cell_type": "code",
   "execution_count": 6,
   "metadata": {},
   "outputs": [
    {
     "data": {
      "text/plain": [
       "communal standpipe    34625\n",
       "hand pump             17488\n",
       "other                  6380\n",
       "improved spring         784\n",
       "cattle trough           116\n",
       "dam                       7\n",
       "Name: waterpoint_type_group, dtype: int64"
      ]
     },
     "execution_count": 6,
     "metadata": {},
     "output_type": "execute_result"
    }
   ],
   "source": [
    "well_data['waterpoint_type_group'].value_counts()"
   ]
  },
  {
   "cell_type": "code",
   "execution_count": 7,
   "metadata": {},
   "outputs": [],
   "source": [
    "# Waterpoint_type  & waterpoint_type_group are quite similar, waterpoint_type seems to be the more specific of the two\n",
    "# So we'll drop waterpoint_type_group\n",
    "\n",
    "well_data.drop('waterpoint_type_group',inplace=True,axis=1)\n",
    "test_values.drop('waterpoint_type_group',inplace=True, axis=1)"
   ]
  },
  {
   "cell_type": "code",
   "execution_count": 8,
   "metadata": {},
   "outputs": [
    {
     "data": {
      "text/plain": [
       "gravity                      26780\n",
       "nira/tanira                   8154\n",
       "other                         6430\n",
       "submersible                   4764\n",
       "swn 80                        3670\n",
       "mono                          2865\n",
       "india mark ii                 2400\n",
       "afridev                       1770\n",
       "ksb                           1415\n",
       "other - rope pump              451\n",
       "other - swn 81                 229\n",
       "windmill                       117\n",
       "india mark iii                  98\n",
       "cemo                            90\n",
       "other - play pump               85\n",
       "walimi                          48\n",
       "climax                          32\n",
       "other - mkulima/shinyanga        2\n",
       "Name: extraction_type, dtype: int64"
      ]
     },
     "execution_count": 8,
     "metadata": {},
     "output_type": "execute_result"
    }
   ],
   "source": [
    "# extraction_type & extraction_type_class & extraction_type_group\n",
    "\n",
    "well_data['extraction_type'].value_counts()\n"
   ]
  },
  {
   "cell_type": "code",
   "execution_count": 9,
   "metadata": {},
   "outputs": [
    {
     "data": {
      "text/plain": [
       "gravity         26780\n",
       "handpump        16456\n",
       "other            6430\n",
       "submersible      6179\n",
       "motorpump        2987\n",
       "rope pump         451\n",
       "wind-powered      117\n",
       "Name: extraction_type_class, dtype: int64"
      ]
     },
     "execution_count": 9,
     "metadata": {},
     "output_type": "execute_result"
    }
   ],
   "source": [
    "well_data['extraction_type_class'].value_counts()"
   ]
  },
  {
   "cell_type": "code",
   "execution_count": 10,
   "metadata": {},
   "outputs": [
    {
     "data": {
      "text/plain": [
       "gravity            26780\n",
       "nira/tanira         8154\n",
       "other               6430\n",
       "submersible         6179\n",
       "swn 80              3670\n",
       "mono                2865\n",
       "india mark ii       2400\n",
       "afridev             1770\n",
       "rope pump            451\n",
       "other handpump       364\n",
       "other motorpump      122\n",
       "wind-powered         117\n",
       "india mark iii        98\n",
       "Name: extraction_type_group, dtype: int64"
      ]
     },
     "execution_count": 10,
     "metadata": {},
     "output_type": "execute_result"
    }
   ],
   "source": [
    "well_data['extraction_type_group'].value_counts()"
   ]
  },
  {
   "cell_type": "code",
   "execution_count": 11,
   "metadata": {},
   "outputs": [],
   "source": [
    "# extraction_type & extraction_type_class & extraction_type_group are quite similar, \n",
    "# extraction_type seems to be the more specific of the two\n",
    "# So we'll drop extraction_type_group & extraction_type_class\n",
    "\n",
    "well_data.drop('extraction_type_group',inplace=True,axis=1)\n",
    "test_values.drop('extraction_type_group',inplace=True, axis=1)\n",
    "\n",
    "\n",
    "well_data.drop('extraction_type_class',inplace=True,axis=1)\n",
    "test_values.drop('extraction_type_class',inplace=True, axis=1)"
   ]
  },
  {
   "cell_type": "code",
   "execution_count": 12,
   "metadata": {},
   "outputs": [
    {
     "data": {
      "text/plain": [
       "spring                  17021\n",
       "shallow well            16824\n",
       "borehole                11949\n",
       "river/lake              10377\n",
       "rainwater harvesting     2295\n",
       "dam                       656\n",
       "other                     278\n",
       "Name: source_type, dtype: int64"
      ]
     },
     "execution_count": 12,
     "metadata": {},
     "output_type": "execute_result"
    }
   ],
   "source": [
    "# source and source_type\n",
    "well_data['source_type'].value_counts()"
   ]
  },
  {
   "cell_type": "code",
   "execution_count": 13,
   "metadata": {},
   "outputs": [
    {
     "data": {
      "text/plain": [
       "spring                  17021\n",
       "shallow well            16824\n",
       "machine dbh             11075\n",
       "river                    9612\n",
       "rainwater harvesting     2295\n",
       "hand dtw                  874\n",
       "lake                      765\n",
       "dam                       656\n",
       "other                     212\n",
       "unknown                    66\n",
       "Name: source, dtype: int64"
      ]
     },
     "execution_count": 13,
     "metadata": {},
     "output_type": "execute_result"
    }
   ],
   "source": [
    "well_data['source'].value_counts()"
   ]
  },
  {
   "cell_type": "code",
   "execution_count": 14,
   "metadata": {},
   "outputs": [],
   "source": [
    "# source and source_type are quite similar, \n",
    "# source seems to be the more specific of the two\n",
    "# So we'll drop source_type\n",
    "\n",
    "well_data.drop('source_type',inplace=True,axis=1)\n",
    "test_values.drop('source_type',inplace=True, axis=1)"
   ]
  },
  {
   "cell_type": "code",
   "execution_count": 15,
   "metadata": {},
   "outputs": [
    {
     "data": {
      "text/plain": [
       "enough          33186\n",
       "insufficient    15129\n",
       "dry              6246\n",
       "seasonal         4050\n",
       "unknown           789\n",
       "Name: quantity, dtype: int64"
      ]
     },
     "execution_count": 15,
     "metadata": {},
     "output_type": "execute_result"
    }
   ],
   "source": [
    "# quantity & quantity_group\n",
    "\n",
    "well_data['quantity'].value_counts()"
   ]
  },
  {
   "cell_type": "code",
   "execution_count": 16,
   "metadata": {},
   "outputs": [
    {
     "data": {
      "text/plain": [
       "enough          33186\n",
       "insufficient    15129\n",
       "dry              6246\n",
       "seasonal         4050\n",
       "unknown           789\n",
       "Name: quantity_group, dtype: int64"
      ]
     },
     "execution_count": 16,
     "metadata": {},
     "output_type": "execute_result"
    }
   ],
   "source": [
    "well_data['quantity_group'].value_counts()"
   ]
  },
  {
   "cell_type": "code",
   "execution_count": 17,
   "metadata": {},
   "outputs": [],
   "source": [
    "# quantity and quantity_group are the exact same\n",
    "# So we'll drop one of them\n",
    "\n",
    "well_data.drop('quantity_group',inplace=True,axis=1)\n",
    "test_values.drop('quantity_group',inplace=True, axis=1)"
   ]
  },
  {
   "cell_type": "code",
   "execution_count": 18,
   "metadata": {},
   "outputs": [
    {
     "data": {
      "text/plain": [
       "soft                  50818\n",
       "salty                  4856\n",
       "unknown                1876\n",
       "milky                   804\n",
       "coloured                490\n",
       "salty abandoned         339\n",
       "fluoride                200\n",
       "fluoride abandoned       17\n",
       "Name: water_quality, dtype: int64"
      ]
     },
     "execution_count": 18,
     "metadata": {},
     "output_type": "execute_result"
    }
   ],
   "source": [
    "# water_quality & quality_group\n",
    "\n",
    "well_data['water_quality'].value_counts()"
   ]
  },
  {
   "cell_type": "code",
   "execution_count": 19,
   "metadata": {},
   "outputs": [
    {
     "data": {
      "text/plain": [
       "good        50818\n",
       "salty        5195\n",
       "unknown      1876\n",
       "milky         804\n",
       "colored       490\n",
       "fluoride      217\n",
       "Name: quality_group, dtype: int64"
      ]
     },
     "execution_count": 19,
     "metadata": {},
     "output_type": "execute_result"
    }
   ],
   "source": [
    "well_data['quality_group'].value_counts()"
   ]
  },
  {
   "cell_type": "code",
   "execution_count": 20,
   "metadata": {},
   "outputs": [],
   "source": [
    "# water_quality and quality_group are quite similar, \n",
    "# water_quality seems to be the more specific of the two\n",
    "# So we'll drop quality_group\n",
    "\n",
    "well_data.drop('quality_group',inplace=True,axis=1)\n",
    "test_values.drop('quality_group',inplace=True, axis=1)"
   ]
  },
  {
   "cell_type": "code",
   "execution_count": 21,
   "metadata": {},
   "outputs": [],
   "source": [
    "# payment & payment_type\n"
   ]
  },
  {
   "cell_type": "code",
   "execution_count": 22,
   "metadata": {},
   "outputs": [
    {
     "data": {
      "text/plain": [
       "<matplotlib.axes._subplots.AxesSubplot at 0x1a21274e10>"
      ]
     },
     "execution_count": 22,
     "metadata": {},
     "output_type": "execute_result"
    },
    {
     "data": {
      "image/png": "[encoded data removed]",
      "text/plain": [
       "<Figure size 432x288 with 2 Axes>"
      ]
     },
     "metadata": {
      "needs_background": "light"
     },
     "output_type": "display_data"
    }
   ],
   "source": [
    "\n",
    "sns.heatmap(well_data.corr())"
   ]
  },
  {
   "cell_type": "code",
   "execution_count": 23,
   "metadata": {},
   "outputs": [
    {
     "data": {
      "text/plain": [
       "never pay                25348\n",
       "pay per bucket            8985\n",
       "pay monthly               8300\n",
       "unknown                   8157\n",
       "pay when scheme fails     3914\n",
       "pay annually              3642\n",
       "other                     1054\n",
       "Name: payment, dtype: int64"
      ]
     },
     "execution_count": 23,
     "metadata": {},
     "output_type": "execute_result"
    }
   ],
   "source": [
    "# payment & payment_type\n",
    "\n",
    "well_data['payment'].value_counts()"
   ]
  },
  {
   "cell_type": "code",
   "execution_count": 24,
   "metadata": {},
   "outputs": [
    {
     "data": {
      "text/plain": [
       "never pay     25348\n",
       "per bucket     8985\n",
       "monthly        8300\n",
       "unknown        8157\n",
       "on failure     3914\n",
       "annually       3642\n",
       "other          1054\n",
       "Name: payment_type, dtype: int64"
      ]
     },
     "execution_count": 24,
     "metadata": {},
     "output_type": "execute_result"
    }
   ],
   "source": [
    "well_data['payment_type'].value_counts()"
   ]
  },
  {
   "cell_type": "code",
   "execution_count": 25,
   "metadata": {},
   "outputs": [],
   "source": [
    "# payment and payment_type are similar\n",
    "# So we'll drop one\n",
    "\n",
    "well_data.drop('payment_type',inplace=True,axis=1)\n",
    "test_values.drop('payment_type',inplace=True, axis=1)"
   ]
  },
  {
   "cell_type": "code",
   "execution_count": 26,
   "metadata": {},
   "outputs": [
    {
     "data": {
      "text/plain": [
       "11    5300\n",
       "17    5011\n",
       "12    4639\n",
       "3     4379\n",
       "5     4040\n",
       "18    3324\n",
       "19    3047\n",
       "2     3024\n",
       "16    2816\n",
       "10    2640\n",
       "4     2513\n",
       "1     2201\n",
       "13    2093\n",
       "14    1979\n",
       "20    1969\n",
       "15    1808\n",
       "6     1609\n",
       "21    1583\n",
       "80    1238\n",
       "60    1025\n",
       "90     917\n",
       "7      805\n",
       "99     423\n",
       "9      390\n",
       "24     326\n",
       "8      300\n",
       "40       1\n",
       "Name: region_code, dtype: int64"
      ]
     },
     "execution_count": 26,
     "metadata": {},
     "output_type": "execute_result"
    }
   ],
   "source": [
    "# region and region_code\n",
    "\n",
    "well_data['region_code'].value_counts()"
   ]
  },
  {
   "cell_type": "code",
   "execution_count": 27,
   "metadata": {},
   "outputs": [
    {
     "data": {
      "text/plain": [
       "Iringa           5294\n",
       "Shinyanga        4982\n",
       "Mbeya            4639\n",
       "Kilimanjaro      4379\n",
       "Morogoro         4006\n",
       "Arusha           3350\n",
       "Kagera           3316\n",
       "Mwanza           3102\n",
       "Kigoma           2816\n",
       "Ruvuma           2640\n",
       "Pwani            2635\n",
       "Tanga            2547\n",
       "Dodoma           2201\n",
       "Singida          2093\n",
       "Mara             1969\n",
       "Tabora           1959\n",
       "Rukwa            1808\n",
       "Mtwara           1730\n",
       "Manyara          1583\n",
       "Lindi            1546\n",
       "Dar es Salaam     805\n",
       "Name: region, dtype: int64"
      ]
     },
     "execution_count": 27,
     "metadata": {},
     "output_type": "execute_result"
    }
   ],
   "source": [
    "well_data['region'].value_counts()"
   ]
  },
  {
   "cell_type": "code",
   "execution_count": 28,
   "metadata": {},
   "outputs": [],
   "source": [
    "# region_code is redundant, let's drop it\n",
    "\n",
    "well_data.drop('region_code',inplace=True,axis=1)\n",
    "test_values.drop('region_code',inplace=True, axis=1)"
   ]
  },
  {
   "cell_type": "code",
   "execution_count": 29,
   "metadata": {},
   "outputs": [
    {
     "data": {
      "text/plain": [
       "vwc                 40507\n",
       "wug                  6515\n",
       "water board          2933\n",
       "wua                  2535\n",
       "private operator     1971\n",
       "parastatal           1768\n",
       "water authority       904\n",
       "other                 844\n",
       "company               685\n",
       "unknown               561\n",
       "other - school         99\n",
       "trust                  78\n",
       "Name: management, dtype: int64"
      ]
     },
     "execution_count": 29,
     "metadata": {},
     "output_type": "execute_result"
    }
   ],
   "source": [
    "# management & management_group\n",
    "well_data['management'].value_counts()"
   ]
  },
  {
   "cell_type": "code",
   "execution_count": 30,
   "metadata": {},
   "outputs": [
    {
     "data": {
      "text/plain": [
       "user-group    52490\n",
       "commercial     3638\n",
       "parastatal     1768\n",
       "other           943\n",
       "unknown         561\n",
       "Name: management_group, dtype: int64"
      ]
     },
     "execution_count": 30,
     "metadata": {},
     "output_type": "execute_result"
    }
   ],
   "source": [
    "well_data['management_group'].value_counts()"
   ]
  },
  {
   "cell_type": "code",
   "execution_count": 31,
   "metadata": {},
   "outputs": [],
   "source": [
    "# This one is not as clear that they are similar, but we can infer based on the naming convention that\n",
    "# management_group is a grouping of management, so let's drop management_group\n",
    "\n",
    "well_data.drop('management_group',inplace=True,axis=1)\n",
    "test_values.drop('management_group',inplace=True, axis=1)\n"
   ]
  },
  {
   "cell_type": "code",
   "execution_count": 32,
   "metadata": {
    "scrolled": false
   },
   "outputs": [
    {
     "data": {
      "text/plain": [
       "VWC                 36793\n",
       "WUG                  5206\n",
       "Water authority      3153\n",
       "WUA                  2883\n",
       "Water Board          2748\n",
       "Parastatal           1680\n",
       "Private operator     1063\n",
       "Company              1061\n",
       "Other                 766\n",
       "SWC                    97\n",
       "Trust                  72\n",
       "None                    1\n",
       "Name: scheme_management, dtype: int64"
      ]
     },
     "execution_count": 32,
     "metadata": {},
     "output_type": "execute_result"
    }
   ],
   "source": [
    "# management & management_group\n",
    "well_data['scheme_management'].value_counts()"
   ]
  },
  {
   "cell_type": "code",
   "execution_count": 33,
   "metadata": {},
   "outputs": [
    {
     "data": {
      "text/plain": [
       "K                                               682\n",
       "None                                            644\n",
       "Borehole                                        546\n",
       "Chalinze wate                                   405\n",
       "M                                               400\n",
       "DANIDA                                          379\n",
       "Government                                      320\n",
       "Ngana water supplied scheme                     270\n",
       "wanging'ombe water supply s                     261\n",
       "wanging'ombe supply scheme                      234\n",
       "Bagamoyo wate                                   229\n",
       "I                                               229\n",
       "Uroki-Bomang'ombe water sup                     209\n",
       "N                                               204\n",
       "Kirua kahe gravity water supply trust           193\n",
       "Machumba estate pipe line                       185\n",
       "Makwale water supplied sche                     166\n",
       "Kijiji                                          161\n",
       "S                                               154\n",
       "mtwango water supply scheme                     152\n",
       "Handeni Trunk Main(H                            152\n",
       "Losaa-Kia water supply                          152\n",
       "Mkongoro Two                                    147\n",
       "Roman                                           139\n",
       "Mkongoro One                                    128\n",
       "Maambreni gravity water supply                  125\n",
       "Lyamungo umbwe water supply                     120\n",
       "Kirua kahe pumping water trust                  113\n",
       "Nabaiye pipe line                               107\n",
       "Ki                                              107\n",
       "                                               ... \n",
       "Kakonko gravity water supply                      1\n",
       "Kalemela Mwaloni                                  1\n",
       "BL deotrfe                                        1\n",
       "BL RC                                             1\n",
       "Mtema/MWS                                         1\n",
       "Tand                                              1\n",
       "Hale water suppy                                  1\n",
       "Imalinyi supply scheme                            1\n",
       "UNICRF                                            1\n",
       "Loca                                              1\n",
       "Damowaso                                          1\n",
       "Mondoros water scheme                             1\n",
       "Moroga                                            1\n",
       "Itoo water supply                                 1\n",
       "Underground water sc                              1\n",
       "Pareni Water Supply                               1\n",
       "PADEP(MIFUGO)                                     1\n",
       "Maswaswa water supply program                     1\n",
       "Sero water scheme                                 1\n",
       "Kanza                                             1\n",
       "Windmili system                                   1\n",
       "Rodosi                                            1\n",
       "Kisa                                              1\n",
       "Villagers                                         1\n",
       "Welela Shallow well                               1\n",
       "Mirumba                                           1\n",
       "Nyakayenzi gravity/point source water supply      1\n",
       "Mhunze water pipe scheme                          1\n",
       "Tanzania Egypt  Technical  Co-Operation           1\n",
       "Hawe                                              1\n",
       "Name: scheme_name, Length: 2696, dtype: int64"
      ]
     },
     "execution_count": 33,
     "metadata": {},
     "output_type": "execute_result"
    }
   ],
   "source": [
    "well_data['scheme_name'].value_counts()"
   ]
  },
  {
   "cell_type": "code",
   "execution_count": 34,
   "metadata": {},
   "outputs": [],
   "source": [
    "# payment and payment_type are similar\n",
    "# So we'll drop scheme_management beause I think it is unlikely that the name of the scheme will have\n",
    "# any predictive power.Plus, it's 50% null values.\n",
    "\n",
    "well_data.drop('scheme_name',inplace=True,axis=1)\n",
    "test_values.drop('scheme_name',inplace=True, axis=1)"
   ]
  },
  {
   "cell_type": "code",
   "execution_count": null,
   "metadata": {},
   "outputs": [],
   "source": []
  },
  {
   "cell_type": "markdown",
   "metadata": {},
   "source": [
    "#### Determine which categories have only 1 value, and remove those categories"
   ]
  },
  {
   "cell_type": "code",
   "execution_count": 35,
   "metadata": {},
   "outputs": [
    {
     "data": {
      "text/plain": [
       "id                   59400\n",
       "status_group             3\n",
       "id                   59400\n",
       "amount_tsh              98\n",
       "date_recorded          356\n",
       "funder                1897\n",
       "gps_height            2428\n",
       "installer             2145\n",
       "longitude            57516\n",
       "latitude             57517\n",
       "wpt_name             37400\n",
       "num_private             65\n",
       "basin                    9\n",
       "subvillage           19287\n",
       "region                  21\n",
       "district_code           20\n",
       "lga                    125\n",
       "ward                  2092\n",
       "population            1049\n",
       "public_meeting           2\n",
       "recorded_by              1\n",
       "scheme_management       12\n",
       "permit                   2\n",
       "construction_year       55\n",
       "extraction_type         18\n",
       "management              12\n",
       "payment                  7\n",
       "water_quality            8\n",
       "quantity                 5\n",
       "source                  10\n",
       "source_class             3\n",
       "waterpoint_type          7\n",
       "dtype: int64"
      ]
     },
     "execution_count": 35,
     "metadata": {},
     "output_type": "execute_result"
    }
   ],
   "source": [
    "well_data.nunique()"
   ]
  },
  {
   "cell_type": "code",
   "execution_count": 36,
   "metadata": {},
   "outputs": [
    {
     "data": {
      "text/plain": [
       "GeoData Consultants Ltd    59400\n",
       "Name: recorded_by, dtype: int64"
      ]
     },
     "execution_count": 36,
     "metadata": {},
     "output_type": "execute_result"
    }
   ],
   "source": [
    "well_data['recorded_by'].value_counts()"
   ]
  },
  {
   "cell_type": "code",
   "execution_count": 37,
   "metadata": {},
   "outputs": [],
   "source": [
    "# This only has one value so it is pretty much useless to our model.\n",
    "# Let's drop it\n",
    "well_data.drop('recorded_by',inplace=True,axis=1)\n",
    "test_values.drop('recorded_by',inplace=True, axis=1)\n"
   ]
  },
  {
   "cell_type": "markdown",
   "metadata": {},
   "source": [
    "#### Determine which categories have no meaning, and remove those categories"
   ]
  },
  {
   "cell_type": "code",
   "execution_count": 38,
   "metadata": {},
   "outputs": [],
   "source": [
    "#'num_private' was given with no description by Driven Data, upon analysis it seems to be irrelevant\n",
    "# So we shall drop it\n",
    "well_data.drop('num_private',inplace=True,axis=1)\n",
    "test_values.drop('num_private',inplace=True, axis=1)"
   ]
  },
  {
   "cell_type": "code",
   "execution_count": 39,
   "metadata": {},
   "outputs": [],
   "source": [
    "well_data.drop('id',inplace=True,axis=1)\n",
    "test_values.drop('id',inplace=True, axis=1)"
   ]
  },
  {
   "cell_type": "markdown",
   "metadata": {},
   "source": [
    "#### Determine which categories have little to no predictive power, and remove those categories"
   ]
  },
  {
   "cell_type": "code",
   "execution_count": 40,
   "metadata": {},
   "outputs": [],
   "source": [
    "# It is unlikely that the name of the water point is going to have any predictive power\n",
    "well_data['wpt_name'].value_counts().count()\n",
    "\n",
    "well_data.drop('wpt_name',inplace=True,axis=1)\n",
    "test_values.drop('wpt_name',inplace=True, axis=1)\n",
    "\n"
   ]
  },
  {
   "cell_type": "markdown",
   "metadata": {},
   "source": [
    "### Filling in remaining zeros and nulls\n",
    "\n",
    "We will fill in missing values based on estimates of their means relative to their /district_code/ or /region/.\n"
   ]
  },
  {
   "cell_type": "code",
   "execution_count": 41,
   "metadata": {},
   "outputs": [
    {
     "data": {
      "text/plain": [
       "<matplotlib.axes._subplots.AxesSubplot at 0x10d406f28>"
      ]
     },
     "execution_count": 41,
     "metadata": {},
     "output_type": "execute_result"
    },
    {
     "data": {
      "image/png": "[encoded data removed]",
      "text/plain": [
       "<Figure size 432x288 with 1 Axes>"
      ]
     },
     "metadata": {
      "needs_background": "light"
     },
     "output_type": "display_data"
    }
   ],
   "source": [
    "sns.heatmap(well_data.isnull(),yticklabels=False,cbar=False,cmap='viridis')"
   ]
  },
  {
   "cell_type": "code",
   "execution_count": 42,
   "metadata": {},
   "outputs": [
    {
     "data": {
      "text/plain": [
       "<matplotlib.axes._subplots.AxesSubplot at 0x10d4244e0>"
      ]
     },
     "execution_count": 42,
     "metadata": {},
     "output_type": "execute_result"
    },
    {
     "data": {
      "image/png": "[encoded data removed]",
      "text/plain": [
       "<Figure size 432x288 with 1 Axes>"
      ]
     },
     "metadata": {
      "needs_background": "light"
     },
     "output_type": "display_data"
    }
   ],
   "source": [
    "sns.heatmap(well_data == 0, yticklabels=False, cbar=False, cmap='viridis')"
   ]
  },
  {
   "cell_type": "code",
   "execution_count": 43,
   "metadata": {},
   "outputs": [
    {
     "data": {
      "text/plain": [
       "status_group             0\n",
       "amount_tsh               0\n",
       "date_recorded            0\n",
       "funder                3635\n",
       "gps_height               0\n",
       "installer             3655\n",
       "longitude             1812\n",
       "latitude                 0\n",
       "basin                    0\n",
       "subvillage             371\n",
       "region                   0\n",
       "district_code            0\n",
       "lga                      0\n",
       "ward                     0\n",
       "population           21381\n",
       "public_meeting        3334\n",
       "scheme_management     3877\n",
       "permit                3056\n",
       "construction_year    20709\n",
       "extraction_type          0\n",
       "management               0\n",
       "payment                  0\n",
       "water_quality            0\n",
       "quantity                 0\n",
       "source                   0\n",
       "source_class             0\n",
       "waterpoint_type          0\n",
       "dtype: int64"
      ]
     },
     "execution_count": 43,
     "metadata": {},
     "output_type": "execute_result"
    }
   ],
   "source": [
    "# Turn zeros to nan\n",
    "well_data['longitude'].replace(0.0, np.nan, inplace=True)\n",
    "well_data['population'].replace(0.0, np.nan, inplace=True)\n",
    "well_data['construction_year'].replace(0.0, np.nan, inplace=True)\n",
    "\n",
    "test_values['longitude'].replace(0.0, np.nan, inplace=True)\n",
    "test_values['construction_year'].replace(0.0, np.nan, inplace=True)\n",
    "test_values['population'].replace(0.0, np.nan, inplace=True)\n",
    "\n",
    "\n",
    "\n",
    "well_data.isnull().sum()"
   ]
  },
  {
   "cell_type": "markdown",
   "metadata": {},
   "source": [
    "zeros:\n",
    "* It isn't clear whether there's any limitations to a well being at sea-level (zero altitude) so we'll leave it\n",
    "* Nowhere in tanzania has a longitude of 0\n",
    "\n",
    "Nulls:\n",
    "\n",
    "\n",
    "\n",
    "As far as the zero-values, we're going to have to make some judgement calls since the data provider was not specific in their descriptions of the categories. While it is possible that a well is at altitude-0 and the population around a well is 0, we can't really tell if that istruly thecase or a missing value. Most of the other analyses seemed to assume it was an error. Of course, we can comeback and test these all out later.\n",
    "\n",
    "\n",
    "It seems the ones who should get our attention are funder, installer, subvillage,public meeting, scheme management, construction year\n"
   ]
  },
  {
   "cell_type": "code",
   "execution_count": 44,
   "metadata": {},
   "outputs": [],
   "source": [
    "# Longitude and population according to district_code & region\n",
    "\n",
    "\n",
    "\n",
    "well_data[\"longitude\"].fillna(well_data.groupby(['district_code'])[\"longitude\"].transform(\"mean\"), inplace=True)\n",
    "well_data[\"population\"].fillna(well_data.groupby(['district_code'])[\"population\"].transform(\"mean\"), inplace=True)\n",
    "\n",
    "well_data[\"longitude\"].fillna(well_data.groupby(['region'])[\"longitude\"].transform(\"mean\"), inplace=True)\n",
    "well_data[\"population\"].fillna(well_data.groupby(['region'])[\"population\"].transform(\"mean\"), inplace=True)\n",
    "\n",
    "\n",
    "\n",
    "\n",
    "test_values[\"longitude\"].fillna(test_values.groupby(['district_code'])[\"longitude\"].transform(\"mean\"), inplace=True)\n",
    "test_values[\"population\"].fillna(test_values.groupby(['district_code'])[\"population\"].transform(\"mean\"), inplace=True)\n",
    "\n",
    "test_values[\"longitude\"].fillna(test_values.groupby(['region'])[\"longitude\"].transform(\"mean\"), inplace=True)\n",
    "test_values[\"population\"].fillna(test_values.groupby(['region'])[\"population\"].transform(\"mean\"), inplace=True)"
   ]
  },
  {
   "cell_type": "code",
   "execution_count": 45,
   "metadata": {},
   "outputs": [
    {
     "data": {
      "text/plain": [
       "False    59400\n",
       "Name: construction_year, dtype: int64"
      ]
     },
     "execution_count": 45,
     "metadata": {},
     "output_type": "execute_result"
    }
   ],
   "source": [
    "# Construction year\n",
    "\n",
    "# \n",
    "\n",
    "\n",
    "\n",
    "\n",
    "\n",
    "well_data[\"construction_year\"].fillna(round(well_data[\"construction_year\"].mean(skipna=True)), inplace=True)\n",
    "test_values[\"construction_year\"].fillna(round(test_values[\"construction_year\"].mean(skipna=True)), inplace=True)\n",
    "\n",
    "\n",
    "well_data[\"construction_year\"].isnull().value_counts()"
   ]
  },
  {
   "cell_type": "code",
   "execution_count": 46,
   "metadata": {},
   "outputs": [],
   "source": [
    "# All of these (one of installer/funder) are canidates to be dropped. \n",
    "# We will fill in NAN values with Unknown anyways.\n",
    "\n",
    "#funder & installer\n",
    "\n",
    "well_data[\"funder\"].fillna('Unknown', inplace=True)\n",
    "well_data[\"installer\"].fillna('Unknown', inplace=True)\n",
    "\n",
    "test_values[\"funder\"].fillna('Unknown', inplace=True)\n",
    "test_values[\"installer\"].fillna('Unknown', inplace=True)\n",
    "\n",
    "\n",
    "# Permit\n",
    "\n",
    "well_data['permit'] = well_data['permit'].fillna('Unknown')\n",
    "test_values['permit'] = test_values['permit'].fillna('Unknown')\n",
    "\n",
    "\n",
    "# Public meeting\n",
    "\n",
    "well_data['public_meeting'] = well_data['public_meeting'].fillna('Unknown')\n",
    "test_values['public_meeting'] = test_values['public_meeting'].fillna('Unknown')\n",
    "\n",
    "# scheme_management\n",
    "\n",
    "well_data['scheme_management'] = well_data['scheme_management'].fillna('Unknown')\n",
    "test_values['scheme_management'] = test_values['scheme_management'].fillna('Unknown')\n"
   ]
  },
  {
   "cell_type": "code",
   "execution_count": 47,
   "metadata": {},
   "outputs": [
    {
     "data": {
      "text/plain": [
       "status_group           0\n",
       "amount_tsh             0\n",
       "date_recorded          0\n",
       "funder                 0\n",
       "gps_height             0\n",
       "installer              0\n",
       "longitude              0\n",
       "latitude               0\n",
       "basin                  0\n",
       "subvillage           371\n",
       "region                 0\n",
       "district_code          0\n",
       "lga                    0\n",
       "ward                   0\n",
       "population             0\n",
       "public_meeting         0\n",
       "scheme_management      0\n",
       "permit                 0\n",
       "construction_year      0\n",
       "extraction_type        0\n",
       "management             0\n",
       "payment                0\n",
       "water_quality          0\n",
       "quantity               0\n",
       "source                 0\n",
       "source_class           0\n",
       "waterpoint_type        0\n",
       "dtype: int64"
      ]
     },
     "execution_count": 47,
     "metadata": {},
     "output_type": "execute_result"
    }
   ],
   "source": [
    "well_data.isnull().sum()"
   ]
  },
  {
   "cell_type": "code",
   "execution_count": 48,
   "metadata": {},
   "outputs": [
    {
     "data": {
      "text/plain": [
       "0           True\n",
       "1        Unknown\n",
       "2           True\n",
       "3           True\n",
       "4           True\n",
       "5           True\n",
       "6           True\n",
       "7           True\n",
       "8           True\n",
       "9           True\n",
       "10          True\n",
       "11          True\n",
       "12          True\n",
       "13          True\n",
       "14          True\n",
       "15          True\n",
       "16          True\n",
       "17          True\n",
       "18       Unknown\n",
       "19          True\n",
       "20          True\n",
       "21       Unknown\n",
       "22          True\n",
       "23          True\n",
       "24         False\n",
       "25          True\n",
       "26         False\n",
       "27          True\n",
       "28          True\n",
       "29          True\n",
       "          ...   \n",
       "59370       True\n",
       "59371       True\n",
       "59372       True\n",
       "59373       True\n",
       "59374       True\n",
       "59375       True\n",
       "59376       True\n",
       "59377       True\n",
       "59378       True\n",
       "59379       True\n",
       "59380       True\n",
       "59381       True\n",
       "59382       True\n",
       "59383       True\n",
       "59384       True\n",
       "59385       True\n",
       "59386       True\n",
       "59387    Unknown\n",
       "59388       True\n",
       "59389      False\n",
       "59390       True\n",
       "59391       True\n",
       "59392       True\n",
       "59393      False\n",
       "59394       True\n",
       "59395       True\n",
       "59396       True\n",
       "59397       True\n",
       "59398       True\n",
       "59399       True\n",
       "Name: public_meeting, Length: 59400, dtype: object"
      ]
     },
     "execution_count": 48,
     "metadata": {},
     "output_type": "execute_result"
    }
   ],
   "source": [
    "well_data['public_meeting']"
   ]
  },
  {
   "cell_type": "markdown",
   "metadata": {},
   "source": [
    "### Consolidate categorical data\n",
    "\n",
    "As we have dealt with before and will deal with going forward, there are alot of categorical variables in this dataset with a ton of different values. When we use one-hot encoding to turn these values into integer columns we'll want to avoid high dimensionality for computation cost & overfitting reasons. We combat this by consolidating low frequency variables into 'other'. This is merely a call im making.\n",
    "\n",
    "Other ways we could deal with this (will experiment with later):\n",
    "* Combining small-n values based on their propensity to be indicative of functional, non-functional, or in-need of repair\n",
    "* Change threshold for deletion between columns tto reflect relative infrequency\n",
    "* Keep top 5 most frequent and make everything else other\n",
    "* Principle Component Analysis\n",
    "\n",
    "Let's plunge in..."
   ]
  },
  {
   "cell_type": "code",
   "execution_count": 49,
   "metadata": {},
   "outputs": [],
   "source": [
    "#Borrowedcode from my friend zlatan's attempt at this\n",
    "\n",
    "def remove_small_freq(X_train, X_test):\n",
    "    cols = [i for i in (X_train.loc[:, well_data.columns != 'date_recorded'].columns) if type(X_train[i].iloc[0]) == str]\n",
    "    print(cols)\n",
    "    X_train[cols] = X_train[cols].where(X_train[cols].apply(lambda x: x.map(x.value_counts())) > 100, \"other\")\n",
    "    for column in cols:\n",
    "        if column in X_test.columns:\n",
    "            for i in X_test[column].unique():\n",
    "                if i not in X_train[column].unique():\n",
    "                    X_test[column].replace(i, 'other', inplace=True)\n",
    "    return X_train, X_test"
   ]
  },
  {
   "cell_type": "code",
   "execution_count": 50,
   "metadata": {},
   "outputs": [
    {
     "name": "stdout",
     "output_type": "stream",
     "text": [
      "['status_group', 'funder', 'installer', 'basin', 'subvillage', 'region', 'lga', 'ward', 'scheme_management', 'extraction_type', 'management', 'payment', 'water_quality', 'quantity', 'source', 'source_class', 'waterpoint_type']\n"
     ]
    }
   ],
   "source": [
    "# THIS\n",
    "'''\n",
    "Feature selection: removing low-frequency values\n",
    "In what amounts to the biggest judgement call of our model, \n",
    "we decide to group low-frequency values in the categorical variables into ‘other’ (for each column). \n",
    "This was a tricky decision because the model where no grouping was done actually performed slightly \n",
    "better than the model with grouping. However, the difference was negligible. \n",
    "Meanwhile, the benefits of doing this are reducing computational cost as well as mitigating overfitting. \n",
    "Even so, we picked a relatively small cutoff value, and it might be better to increase that cutoff to something \n",
    "like 100.\n",
    "\n",
    "def small_n(X_train, X_test):\n",
    "    cols = [i for i in X_train.columns if type(X_train[i].iloc[0]) == str]\n",
    "    X_train[cols] = X_train[cols].where(X_train[cols].apply(lambda x: x.map(x.value_counts())) > 20, \"other\")\n",
    "    for column in cols:\n",
    "        for i in X_test[column].unique():\n",
    "            if i not in X_train[column].unique():\n",
    "                X_test[column].replace(i, 'other', inplace=True)\n",
    "    return X_train, X_test\n",
    "'''\n",
    "\n",
    "#well_data['installer'] = remove_small_freq(well_data['installer'])\n",
    "\n",
    "\n",
    "\n",
    "well_data, test_values = remove_small_freq(well_data, test_values)\n"
   ]
  },
  {
   "cell_type": "code",
   "execution_count": 51,
   "metadata": {},
   "outputs": [
    {
     "data": {
      "text/plain": [
       "other                            12375\n",
       "Government Of Tanzania            9084\n",
       "Unknown                           3639\n",
       "Danida                            3114\n",
       "Hesawa                            2202\n",
       "Rwssp                             1374\n",
       "World Bank                        1349\n",
       "Kkkt                              1287\n",
       "World Vision                      1246\n",
       "Unicef                            1057\n",
       "Tasaf                              877\n",
       "District Council                   843\n",
       "Dhv                                829\n",
       "Private Individual                 826\n",
       "Dwsp                               811\n",
       "0                                  777\n",
       "Norad                              765\n",
       "Germany Republi                    610\n",
       "Tcrs                               602\n",
       "Ministry Of Water                  590\n",
       "Water                              583\n",
       "Dwe                                484\n",
       "Netherlands                        470\n",
       "Hifab                              450\n",
       "Adb                                448\n",
       "Lga                                442\n",
       "Amref                              425\n",
       "Fini Water                         393\n",
       "Oxfam                              359\n",
       "Wateraid                           333\n",
       "                                 ...  \n",
       "Concern World Wide                 145\n",
       "Unhcr                              137\n",
       "No                                 134\n",
       "Swedish                            131\n",
       "African                            128\n",
       "Community                          126\n",
       "Anglican Church                    126\n",
       "Is                                 125\n",
       "He                                 125\n",
       "Ki                                 124\n",
       "Tardo                              123\n",
       "Ir                                 123\n",
       "Snv                                122\n",
       "Wananchi                           122\n",
       "Wua                                121\n",
       "Roman Catholic                     121\n",
       "Unice                              119\n",
       "Bsf                                117\n",
       "Tassaf                             116\n",
       "Co                                 111\n",
       "Lamp                               110\n",
       "Dfid                               110\n",
       "Concern                            108\n",
       "Muwsa                              107\n",
       "Villagers                          106\n",
       "Village Council                    105\n",
       "Ru                                 105\n",
       "Halmashauri Ya Wilaya Sikonge      102\n",
       "Hsw                                101\n",
       "Germany                            101\n",
       "Name: funder, Length: 93, dtype: int64"
      ]
     },
     "execution_count": 51,
     "metadata": {},
     "output_type": "execute_result"
    }
   ],
   "source": [
    "well_data['funder'].value_counts()"
   ]
  },
  {
   "cell_type": "markdown",
   "metadata": {},
   "source": [
    "### Linear Discriminant Analysis\n",
    "\n",
    "The time has come to do something about the continous variables. We wish to reduce the amount of dimension in these values by discretizing them. Luckily, LDA is a handy tool for doing just that!\n",
    "\n",
    "Values we'll be applying LDA to:\n",
    "* gps_height\n",
    "* longitude\n",
    "* latitude\n",
    "\n"
   ]
  },
  {
   "cell_type": "code",
   "execution_count": 52,
   "metadata": {},
   "outputs": [],
   "source": [
    "# Change this\n",
    "\n",
    "#Code also borrowed from zlatan\n",
    "\n",
    "import numpy as np\n",
    "from sklearn.discriminant_analysis import LinearDiscriminantAnalysis as LDA\n",
    "from sklearn.preprocessing import StandardScaler\n",
    "\n",
    "def lda(X_train, X_test, y_train, cols=['gps_height', 'latitude', 'longitude']):\n",
    "    sc = StandardScaler()\n",
    "    X_train_std = sc.fit_transform(X_train[cols])\n",
    "    X_test_std = sc.transform(X_test[cols])\n",
    "    \n",
    "    lda = LDA(n_components=None)\n",
    "    \n",
    "    X_train_lda = lda.fit_transform(X_train_std, y_train.values.ravel())\n",
    "    X_test_lda = lda.transform(X_test_std)\n",
    "    \n",
    "    X_train = pd.concat((pd.DataFrame(X_train_lda), X_train,y_train), axis=1)\n",
    "    X_test = pd.concat((pd.DataFrame(X_test_lda), X_test), axis=1)\n",
    "    for i in cols:\n",
    "        del X_train[i]\n",
    "        del X_test[i]\n",
    "    return X_train, X_test\n",
    "\n",
    "\n",
    "\n",
    "y_train = well_data['status_group']\n",
    "X_train = well_data.loc[:, well_data.columns != 'status_group']\n",
    "X_test = test_values\n",
    "well_data, test_values = lda(X_train, X_test, y_train)\n"
   ]
  },
  {
   "cell_type": "markdown",
   "metadata": {},
   "source": [
    "### Dates"
   ]
  },
  {
   "cell_type": "code",
   "execution_count": 53,
   "metadata": {},
   "outputs": [
    {
     "data": {
      "text/plain": [
       "Index([                  0,                   1,        'amount_tsh',\n",
       "           'date_recorded',            'funder',         'installer',\n",
       "                   'basin',        'subvillage',            'region',\n",
       "           'district_code',               'lga',              'ward',\n",
       "              'population',    'public_meeting', 'scheme_management',\n",
       "                  'permit', 'construction_year',   'extraction_type',\n",
       "              'management',           'payment',     'water_quality',\n",
       "                'quantity',            'source',      'source_class',\n",
       "         'waterpoint_type',      'status_group'],\n",
       "      dtype='object')"
      ]
     },
     "execution_count": 53,
     "metadata": {},
     "output_type": "execute_result"
    }
   ],
   "source": [
    "well_data.columns"
   ]
  },
  {
   "cell_type": "code",
   "execution_count": 54,
   "metadata": {},
   "outputs": [],
   "source": [
    "#Create Year & Month columns for observations\n",
    "import datetime\n",
    "well_data['date_recorded'] = pd.to_datetime(well_data['date_recorded'])\n",
    "well_data['year_recorded'] = well_data['date_recorded'].apply(lambda x: x.year)\n",
    "well_data['month_recorded'] = well_data['date_recorded'].apply(lambda x: x.month)\n",
    "\n",
    "test_values['date_recorded'] = pd.to_datetime(test_values['date_recorded'])\n",
    "test_values['year_recorded'] = test_values['date_recorded'].apply(lambda x: x.year)\n",
    "test_values['month_recorded'] = test_values['date_recorded'].apply(lambda x: x.month)\n"
   ]
  },
  {
   "cell_type": "code",
   "execution_count": 55,
   "metadata": {},
   "outputs": [],
   "source": [
    "# Create Years since construction columns\n",
    "\n",
    "well_data['years_of_operation'] = well_data['year_recorded'] - well_data['construction_year']\n",
    "test_values['years_of_operation'] = test_values['year_recorded'] - test_values['construction_year']\n",
    "\n",
    "# Year recorded is now redundant\n",
    "well_data.drop('year_recorded',axis=1,inplace=True)\n",
    "test_values.drop('year_recorded',axis=1,inplace=True)\n",
    "\n",
    "\n"
   ]
  },
  {
   "cell_type": "code",
   "execution_count": 56,
   "metadata": {},
   "outputs": [],
   "source": [
    "# convert to ordinal\n",
    "well_data['date_recorded'] = well_data['date_recorded'].apply(lambda x: x.toordinal())\n",
    "test_values['date_recorded'] = test_values['date_recorded'].apply(lambda x: x.toordinal())\n"
   ]
  },
  {
   "cell_type": "markdown",
   "metadata": {},
   "source": []
  },
  {
   "cell_type": "markdown",
   "metadata": {},
   "source": [
    "### One Hot Encoding"
   ]
  },
  {
   "cell_type": "code",
   "execution_count": 57,
   "metadata": {},
   "outputs": [],
   "source": [
    "#Lower_case everything first"
   ]
  },
  {
   "cell_type": "code",
   "execution_count": 58,
   "metadata": {},
   "outputs": [],
   "source": [
    "def lowerCase(df):\n",
    "    cols = [i for i in df.columns if type(df[i].iloc[0]) == str]\n",
    "    \n",
    "    for column in cols:\n",
    "        df[column] = df[column].str.lower()\n",
    "    \n",
    "    return df\n",
    "    \n",
    "well_data = lowerCase(well_data)\n",
    "test_values = lowerCase(test_values)\n"
   ]
  },
  {
   "cell_type": "code",
   "execution_count": 59,
   "metadata": {},
   "outputs": [],
   "source": [
    "\n",
    "# Make sure dates get converted too\n",
    "dates = ['month_recorded','years_of_operation']\n",
    "\n",
    "#but only the ones that also apear in the test set,inspiration from zlatan\n",
    "for z in dates:\n",
    "    well_data[z] = well_data[z].apply(lambda x: str(x))\n",
    "    test_values[z] = test_values[z].apply(lambda x: str(x))\n",
    "    good_cols = [z+'_'+i for i in well_data[z].unique() if i in test_values[z].unique()]\n",
    "    well_data = pd.concat((well_data, pd.get_dummies(well_data[z], prefix = z)[good_cols]), axis = 1)\n",
    "    test_values = pd.concat((test_values, pd.get_dummies(test_values[z], prefix = z)[good_cols]), axis = 1)\n",
    "    del well_data[z]\n",
    "    del test_values[z]\n",
    "\n",
    "\n"
   ]
  },
  {
   "cell_type": "code",
   "execution_count": 60,
   "metadata": {},
   "outputs": [],
   "source": [
    "# Convert to dummy\n",
    "well_data = pd.get_dummies(well_data)\n",
    "test_values = pd.get_dummies(test_values)"
   ]
  },
  {
   "cell_type": "code",
   "execution_count": 61,
   "metadata": {},
   "outputs": [],
   "source": [
    "# Note to self: Comeback and try normalizing population second time around\n"
   ]
  },
  {
   "cell_type": "code",
   "execution_count": null,
   "metadata": {},
   "outputs": [],
   "source": []
  },
  {
   "cell_type": "markdown",
   "metadata": {},
   "source": [
    "### Final Look & Export"
   ]
  },
  {
   "cell_type": "code",
   "execution_count": 62,
   "metadata": {},
   "outputs": [
    {
     "name": "stdout",
     "output_type": "stream",
     "text": [
      "<class 'pandas.core.frame.DataFrame'>\n",
      "RangeIndex: 59400 entries, 0 to 59399\n",
      "Columns: 551 entries, 0 to status_group_non functional\n",
      "dtypes: float64(5), int64(2), uint8(544)\n",
      "memory usage: 34.0 MB\n"
     ]
    }
   ],
   "source": [
    "well_data.info()"
   ]
  },
  {
   "cell_type": "code",
   "execution_count": 63,
   "metadata": {},
   "outputs": [
    {
     "name": "stdout",
     "output_type": "stream",
     "text": [
      "<class 'pandas.core.frame.DataFrame'>\n",
      "RangeIndex: 14850 entries, 0 to 14849\n",
      "Columns: 548 entries, 0 to waterpoint_type_other\n",
      "dtypes: float64(5), int64(2), uint8(541)\n",
      "memory usage: 8.5 MB\n"
     ]
    }
   ],
   "source": [
    "test_values.info()"
   ]
  },
  {
   "cell_type": "code",
   "execution_count": 64,
   "metadata": {
    "scrolled": true
   },
   "outputs": [
    {
     "data": {
      "text/html": [
       "<div>\n",
       "<style scoped>\n",
       "    .dataframe tbody tr th:only-of-type {\n",
       "        vertical-align: middle;\n",
       "    }\n",
       "\n",
       "    .dataframe tbody tr th {\n",
       "        vertical-align: top;\n",
       "    }\n",
       "\n",
       "    .dataframe thead th {\n",
       "        text-align: right;\n",
       "    }\n",
       "</style>\n",
       "<table border=\"1\" class=\"dataframe\">\n",
       "  <thead>\n",
       "    <tr style=\"text-align: right;\">\n",
       "      <th></th>\n",
       "      <th>0</th>\n",
       "      <th>1</th>\n",
       "      <th>amount_tsh</th>\n",
       "      <th>date_recorded</th>\n",
       "      <th>district_code</th>\n",
       "      <th>population</th>\n",
       "      <th>construction_year</th>\n",
       "      <th>month_recorded_3</th>\n",
       "      <th>month_recorded_2</th>\n",
       "      <th>month_recorded_1</th>\n",
       "      <th>...</th>\n",
       "      <th>source_class_unknown</th>\n",
       "      <th>waterpoint_type_cattle trough</th>\n",
       "      <th>waterpoint_type_communal standpipe</th>\n",
       "      <th>waterpoint_type_communal standpipe multiple</th>\n",
       "      <th>waterpoint_type_hand pump</th>\n",
       "      <th>waterpoint_type_improved spring</th>\n",
       "      <th>waterpoint_type_other</th>\n",
       "      <th>status_group_functional</th>\n",
       "      <th>status_group_functional needs repair</th>\n",
       "      <th>status_group_non functional</th>\n",
       "    </tr>\n",
       "  </thead>\n",
       "  <tbody>\n",
       "    <tr>\n",
       "      <th>count</th>\n",
       "      <td>5.940000e+04</td>\n",
       "      <td>5.940000e+04</td>\n",
       "      <td>59400.000000</td>\n",
       "      <td>59400.000000</td>\n",
       "      <td>59400.000000</td>\n",
       "      <td>59400.000000</td>\n",
       "      <td>59400.000000</td>\n",
       "      <td>59400.000000</td>\n",
       "      <td>59400.000000</td>\n",
       "      <td>59400.000000</td>\n",
       "      <td>...</td>\n",
       "      <td>59400.000000</td>\n",
       "      <td>59400.000000</td>\n",
       "      <td>59400.000000</td>\n",
       "      <td>59400.000000</td>\n",
       "      <td>59400.000000</td>\n",
       "      <td>59400.000000</td>\n",
       "      <td>59400.000000</td>\n",
       "      <td>59400.000000</td>\n",
       "      <td>59400.000000</td>\n",
       "      <td>59400.000000</td>\n",
       "    </tr>\n",
       "    <tr>\n",
       "      <th>mean</th>\n",
       "      <td>-1.389866e-14</td>\n",
       "      <td>-1.558462e-16</td>\n",
       "      <td>317.650385</td>\n",
       "      <td>734591.383030</td>\n",
       "      <td>5.629747</td>\n",
       "      <td>281.119375</td>\n",
       "      <td>1996.879293</td>\n",
       "      <td>0.301953</td>\n",
       "      <td>0.208788</td>\n",
       "      <td>0.106970</td>\n",
       "      <td>...</td>\n",
       "      <td>0.004680</td>\n",
       "      <td>0.001953</td>\n",
       "      <td>0.480168</td>\n",
       "      <td>0.102744</td>\n",
       "      <td>0.294411</td>\n",
       "      <td>0.013199</td>\n",
       "      <td>0.107525</td>\n",
       "      <td>0.543081</td>\n",
       "      <td>0.072677</td>\n",
       "      <td>0.384242</td>\n",
       "    </tr>\n",
       "    <tr>\n",
       "      <th>std</th>\n",
       "      <td>1.006759e+00</td>\n",
       "      <td>1.003956e+00</td>\n",
       "      <td>2997.574558</td>\n",
       "      <td>334.216374</td>\n",
       "      <td>9.633649</td>\n",
       "      <td>453.164327</td>\n",
       "      <td>10.066168</td>\n",
       "      <td>0.459109</td>\n",
       "      <td>0.406446</td>\n",
       "      <td>0.309077</td>\n",
       "      <td>...</td>\n",
       "      <td>0.068252</td>\n",
       "      <td>0.044148</td>\n",
       "      <td>0.499611</td>\n",
       "      <td>0.303627</td>\n",
       "      <td>0.455781</td>\n",
       "      <td>0.114126</td>\n",
       "      <td>0.309782</td>\n",
       "      <td>0.498145</td>\n",
       "      <td>0.259607</td>\n",
       "      <td>0.486420</td>\n",
       "    </tr>\n",
       "    <tr>\n",
       "      <th>min</th>\n",
       "      <td>-3.199540e+00</td>\n",
       "      <td>-2.052485e+00</td>\n",
       "      <td>0.000000</td>\n",
       "      <td>731137.000000</td>\n",
       "      <td>0.000000</td>\n",
       "      <td>1.000000</td>\n",
       "      <td>1960.000000</td>\n",
       "      <td>0.000000</td>\n",
       "      <td>0.000000</td>\n",
       "      <td>0.000000</td>\n",
       "      <td>...</td>\n",
       "      <td>0.000000</td>\n",
       "      <td>0.000000</td>\n",
       "      <td>0.000000</td>\n",
       "      <td>0.000000</td>\n",
       "      <td>0.000000</td>\n",
       "      <td>0.000000</td>\n",
       "      <td>0.000000</td>\n",
       "      <td>0.000000</td>\n",
       "      <td>0.000000</td>\n",
       "      <td>0.000000</td>\n",
       "    </tr>\n",
       "    <tr>\n",
       "      <th>25%</th>\n",
       "      <td>-9.973489e-01</td>\n",
       "      <td>-8.110832e-01</td>\n",
       "      <td>0.000000</td>\n",
       "      <td>734228.000000</td>\n",
       "      <td>2.000000</td>\n",
       "      <td>100.000000</td>\n",
       "      <td>1996.000000</td>\n",
       "      <td>0.000000</td>\n",
       "      <td>0.000000</td>\n",
       "      <td>0.000000</td>\n",
       "      <td>...</td>\n",
       "      <td>0.000000</td>\n",
       "      <td>0.000000</td>\n",
       "      <td>0.000000</td>\n",
       "      <td>0.000000</td>\n",
       "      <td>0.000000</td>\n",
       "      <td>0.000000</td>\n",
       "      <td>0.000000</td>\n",
       "      <td>0.000000</td>\n",
       "      <td>0.000000</td>\n",
       "      <td>0.000000</td>\n",
       "    </tr>\n",
       "    <tr>\n",
       "      <th>50%</th>\n",
       "      <td>4.488198e-01</td>\n",
       "      <td>1.679414e-01</td>\n",
       "      <td>0.000000</td>\n",
       "      <td>734786.000000</td>\n",
       "      <td>3.000000</td>\n",
       "      <td>247.971521</td>\n",
       "      <td>1997.000000</td>\n",
       "      <td>0.000000</td>\n",
       "      <td>0.000000</td>\n",
       "      <td>0.000000</td>\n",
       "      <td>...</td>\n",
       "      <td>0.000000</td>\n",
       "      <td>0.000000</td>\n",
       "      <td>0.000000</td>\n",
       "      <td>0.000000</td>\n",
       "      <td>0.000000</td>\n",
       "      <td>0.000000</td>\n",
       "      <td>0.000000</td>\n",
       "      <td>1.000000</td>\n",
       "      <td>0.000000</td>\n",
       "      <td>0.000000</td>\n",
       "    </tr>\n",
       "    <tr>\n",
       "      <th>75%</th>\n",
       "      <td>9.111529e-01</td>\n",
       "      <td>7.073203e-01</td>\n",
       "      <td>20.000000</td>\n",
       "      <td>734908.000000</td>\n",
       "      <td>5.000000</td>\n",
       "      <td>314.577914</td>\n",
       "      <td>2004.000000</td>\n",
       "      <td>1.000000</td>\n",
       "      <td>0.000000</td>\n",
       "      <td>0.000000</td>\n",
       "      <td>...</td>\n",
       "      <td>0.000000</td>\n",
       "      <td>0.000000</td>\n",
       "      <td>1.000000</td>\n",
       "      <td>0.000000</td>\n",
       "      <td>1.000000</td>\n",
       "      <td>0.000000</td>\n",
       "      <td>0.000000</td>\n",
       "      <td>1.000000</td>\n",
       "      <td>0.000000</td>\n",
       "      <td>1.000000</td>\n",
       "    </tr>\n",
       "    <tr>\n",
       "      <th>max</th>\n",
       "      <td>1.240987e+00</td>\n",
       "      <td>2.290568e+00</td>\n",
       "      <td>350000.000000</td>\n",
       "      <td>735205.000000</td>\n",
       "      <td>80.000000</td>\n",
       "      <td>30500.000000</td>\n",
       "      <td>2013.000000</td>\n",
       "      <td>1.000000</td>\n",
       "      <td>1.000000</td>\n",
       "      <td>1.000000</td>\n",
       "      <td>...</td>\n",
       "      <td>1.000000</td>\n",
       "      <td>1.000000</td>\n",
       "      <td>1.000000</td>\n",
       "      <td>1.000000</td>\n",
       "      <td>1.000000</td>\n",
       "      <td>1.000000</td>\n",
       "      <td>1.000000</td>\n",
       "      <td>1.000000</td>\n",
       "      <td>1.000000</td>\n",
       "      <td>1.000000</td>\n",
       "    </tr>\n",
       "  </tbody>\n",
       "</table>\n",
       "<p>8 rows × 551 columns</p>\n",
       "</div>"
      ],
      "text/plain": [
       "                  0             1     amount_tsh  date_recorded  \\\n",
       "count  5.940000e+04  5.940000e+04   59400.000000   59400.000000   \n",
       "mean  -1.389866e-14 -1.558462e-16     317.650385  734591.383030   \n",
       "std    1.006759e+00  1.003956e+00    2997.574558     334.216374   \n",
       "min   -3.199540e+00 -2.052485e+00       0.000000  731137.000000   \n",
       "25%   -9.973489e-01 -8.110832e-01       0.000000  734228.000000   \n",
       "50%    4.488198e-01  1.679414e-01       0.000000  734786.000000   \n",
       "75%    9.111529e-01  7.073203e-01      20.000000  734908.000000   \n",
       "max    1.240987e+00  2.290568e+00  350000.000000  735205.000000   \n",
       "\n",
       "       district_code    population  construction_year  month_recorded_3  \\\n",
       "count   59400.000000  59400.000000       59400.000000      59400.000000   \n",
       "mean        5.629747    281.119375        1996.879293          0.301953   \n",
       "std         9.633649    453.164327          10.066168          0.459109   \n",
       "min         0.000000      1.000000        1960.000000          0.000000   \n",
       "25%         2.000000    100.000000        1996.000000          0.000000   \n",
       "50%         3.000000    247.971521        1997.000000          0.000000   \n",
       "75%         5.000000    314.577914        2004.000000          1.000000   \n",
       "max        80.000000  30500.000000        2013.000000          1.000000   \n",
       "\n",
       "       month_recorded_2  month_recorded_1             ...               \\\n",
       "count      59400.000000      59400.000000             ...                \n",
       "mean           0.208788          0.106970             ...                \n",
       "std            0.406446          0.309077             ...                \n",
       "min            0.000000          0.000000             ...                \n",
       "25%            0.000000          0.000000             ...                \n",
       "50%            0.000000          0.000000             ...                \n",
       "75%            0.000000          0.000000             ...                \n",
       "max            1.000000          1.000000             ...                \n",
       "\n",
       "       source_class_unknown  waterpoint_type_cattle trough  \\\n",
       "count          59400.000000                   59400.000000   \n",
       "mean               0.004680                       0.001953   \n",
       "std                0.068252                       0.044148   \n",
       "min                0.000000                       0.000000   \n",
       "25%                0.000000                       0.000000   \n",
       "50%                0.000000                       0.000000   \n",
       "75%                0.000000                       0.000000   \n",
       "max                1.000000                       1.000000   \n",
       "\n",
       "       waterpoint_type_communal standpipe  \\\n",
       "count                        59400.000000   \n",
       "mean                             0.480168   \n",
       "std                              0.499611   \n",
       "min                              0.000000   \n",
       "25%                              0.000000   \n",
       "50%                              0.000000   \n",
       "75%                              1.000000   \n",
       "max                              1.000000   \n",
       "\n",
       "       waterpoint_type_communal standpipe multiple  waterpoint_type_hand pump  \\\n",
       "count                                 59400.000000               59400.000000   \n",
       "mean                                      0.102744                   0.294411   \n",
       "std                                       0.303627                   0.455781   \n",
       "min                                       0.000000                   0.000000   \n",
       "25%                                       0.000000                   0.000000   \n",
       "50%                                       0.000000                   0.000000   \n",
       "75%                                       0.000000                   1.000000   \n",
       "max                                       1.000000                   1.000000   \n",
       "\n",
       "       waterpoint_type_improved spring  waterpoint_type_other  \\\n",
       "count                     59400.000000           59400.000000   \n",
       "mean                          0.013199               0.107525   \n",
       "std                           0.114126               0.309782   \n",
       "min                           0.000000               0.000000   \n",
       "25%                           0.000000               0.000000   \n",
       "50%                           0.000000               0.000000   \n",
       "75%                           0.000000               0.000000   \n",
       "max                           1.000000               1.000000   \n",
       "\n",
       "       status_group_functional  status_group_functional needs repair  \\\n",
       "count             59400.000000                          59400.000000   \n",
       "mean                  0.543081                              0.072677   \n",
       "std                   0.498145                              0.259607   \n",
       "min                   0.000000                              0.000000   \n",
       "25%                   0.000000                              0.000000   \n",
       "50%                   1.000000                              0.000000   \n",
       "75%                   1.000000                              0.000000   \n",
       "max                   1.000000                              1.000000   \n",
       "\n",
       "       status_group_non functional  \n",
       "count                 59400.000000  \n",
       "mean                      0.384242  \n",
       "std                       0.486420  \n",
       "min                       0.000000  \n",
       "25%                       0.000000  \n",
       "50%                       0.000000  \n",
       "75%                       1.000000  \n",
       "max                       1.000000  \n",
       "\n",
       "[8 rows x 551 columns]"
      ]
     },
     "execution_count": 64,
     "metadata": {},
     "output_type": "execute_result"
    }
   ],
   "source": [
    "well_data.describe()"
   ]
  },
  {
   "cell_type": "code",
   "execution_count": 65,
   "metadata": {},
   "outputs": [],
   "source": [
    "well_data.to_csv(r'pump_it_up//train_data_clean.csv')"
   ]
  },
  {
   "cell_type": "code",
   "execution_count": 66,
   "metadata": {},
   "outputs": [],
   "source": [
    "well_data.to_csv(r'pump_it_up/test_data_clean.csv')"
   ]
  },
  {
   "cell_type": "code",
   "execution_count": null,
   "metadata": {},
   "outputs": [],
   "source": []
  }
 ],
 "metadata": {
  "kernelspec": {
   "display_name": "Python 3",
   "language": "python",
   "name": "python3"
  },
  "language_info": {
   "codemirror_mode": {
    "name": "ipython",
    "version": 3
   },
   "file_extension": ".py",
   "mimetype": "text/x-python",
   "name": "python",
   "nbconvert_exporter": "python",
   "pygments_lexer": "ipython3",
   "version": "3.7.1"
  }
 },
 "nbformat": 4,
 "nbformat_minor": 2
}
